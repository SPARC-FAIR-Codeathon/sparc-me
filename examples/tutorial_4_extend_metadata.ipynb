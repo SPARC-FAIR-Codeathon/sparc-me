{
 "cells": [
  {
   "cell_type": "markdown",
   "source": [
    "# Tutorial 4 - Extending metadata\n",
    "This tutorial will walk you through the steps of adding a field to an existing metadata\n",
    "and updating the metadata schema accordingly"
   ],
   "metadata": {
    "collapsed": false
   }
  },
  {
   "cell_type": "markdown",
   "source": [
    "## Setup"
   ],
   "metadata": {
    "collapsed": false,
    "pycharm": {
     "name": "#%% md\n"
    }
   }
  },
  {
   "cell_type": "code",
   "execution_count": null,
   "outputs": [],
   "source": [
    "from pathlib import Path\n",
    "from sparc_me import Dataset, Schema\n",
    "save_dir = Path(\"./tmp\")"
   ],
   "metadata": {
    "collapsed": false,
    "pycharm": {
     "name": "#%%\n"
    }
   }
  },
  {
   "cell_type": "markdown",
   "source": [
    "## Create a SDS dataset from template"
   ],
   "metadata": {
    "collapsed": false,
    "pycharm": {
     "name": "#%% md\n"
    }
   }
  },
  {
   "cell_type": "code",
   "execution_count": null,
   "outputs": [],
   "source": [
    "dataset = Dataset()\n",
    "dataset.load_from_template(version=\"1.2.3\")\n",
    "dataset.save(save_dir=save_dir.joinpath(\"template\"))"
   ],
   "metadata": {
    "collapsed": false,
    "pycharm": {
     "name": "#%%\n"
    }
   }
  },
  {
   "cell_type": "markdown",
   "source": [
    "## Save the default schema"
   ],
   "metadata": {
    "collapsed": false,
    "pycharm": {
     "name": "#%% md\n"
    }
   }
  },
  {
   "cell_type": "code",
   "execution_count": null,
   "outputs": [],
   "source": [
    "default_schema = Schema.get_default_schema(version=\"1.2.3\", category=\"dataset_description\")\n",
    "schema = Schema()\n",
    "schema.set_schema(default_schema)\n",
    "schema.save(save_dir=save_dir.joinpath(\"schema\"), category=\"dataset_description\")"
   ],
   "metadata": {
    "collapsed": false,
    "pycharm": {
     "name": "#%%\n"
    }
   }
  },
  {
   "cell_type": "markdown",
   "source": [
    "## Save the default schema"
   ],
   "metadata": {
    "collapsed": false,
    "pycharm": {
     "name": "#%% md\n"
    }
   }
  },
  {
   "cell_type": "code",
   "execution_count": null,
   "outputs": [],
   "source": [
    "default_schema = Schema.get_default_schema(version=\"1.2.3\", category=\"dataset_description\")\n",
    "schema = Schema()\n",
    "schema.set_schema(default_schema)\n",
    "schema.save(save_dir=save_dir.joinpath(\"schema\"), category=\"dataset_description\")"
   ],
   "metadata": {
    "collapsed": false,
    "pycharm": {
     "name": "#%%\n"
    }
   }
  },
  {
   "cell_type": "markdown",
   "source": [
    "## Extending the metadata to include Data Use Ontology tags.\n",
    "The Data Use Ontology (DUO) allows to semantically tag datasets with restrictions about their usage, making them discoverable automatically based on the authorization level of users, or intended usage. For further information, please see [this link](https://github.com/EBISPOT/DUO).\n",
    "\n",
    "The original SDS schema will first be extended to include a DUO tags as shown below."
   ],
   "metadata": {
    "collapsed": false,
    "pycharm": {
     "name": "#%% md\n"
    }
   }
  },
  {
   "cell_type": "code",
   "execution_count": null,
   "outputs": [],
   "source": [
    "category = \"dataset_description\"\n",
    "element = \"Data use limitation\"\n",
    "dataset.add_element(category=category, element=element)\n",
    "dataset.save(save_dir=save_dir.joinpath(\"template\"))\n",
    "# Update schema\n",
    "property = {\n",
    "    \"type\": \"string\",\n",
    "    \"required\": \"Y\",\n",
    "    \"description\": \"The (GA4GH) Data Use Ontology (DUO) terms for describing data use conditions of this dataset.\",\n",
    "    \"Example\": \"GRU\"\n",
    "}\n",
    "schema.add_property(property_name=element, property=property)\n",
    "schema.save(save_dir=save_dir.joinpath(\"schema\"), category=\"dataset_description\")"
   ],
   "metadata": {
    "collapsed": false,
    "pycharm": {
     "name": "#%%\n"
    }
   }
  },
  {
   "cell_type": "markdown",
   "source": [
    "sparc-me can then be used to programmatically set the \"Data use limitation\" field for and SDS dataset that uses this new schema e.g. with a value of GRU, which indicates that the data is available for future general research use. An example of how SDS metadata fields can be set is described in Tutorial 2.\n"
   ],
   "metadata": {
    "collapsed": false,
    "pycharm": {
     "name": "#%% md\n"
    }
   }
  }
 ],
 "metadata": {
  "kernelspec": {
   "display_name": "Python 3",
   "language": "python",
   "name": "python3"
  },
  "language_info": {
   "codemirror_mode": {
    "name": "ipython",
    "version": 2
   },
   "file_extension": ".py",
   "mimetype": "text/x-python",
   "name": "python",
   "nbconvert_exporter": "python",
   "pygments_lexer": "ipython2",
   "version": "2.7.6"
  }
 },
 "nbformat": 4,
 "nbformat_minor": 0
}