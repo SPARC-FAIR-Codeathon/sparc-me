{
 "cells": [
  {
   "cell_type": "markdown",
   "metadata": {},
   "source": [
    "# Tutorial 2: Create SDS from existing data set\n",
    "\n",
    "The SPARC Dataset Structure (SDS) is a standardised method for organising files and metadata. In this tutorial existing data is loaded into a SDS file structure and the metadata is explored and edited. \n",
    "\n",
    "# Creating SDS folder structure "
   ]
  },
  {
   "cell_type": "code",
   "metadata": {},
   "source": [
    "# Initialise a dataset object\n",
    "import sys\n",
    "[sys.path.append(i) for i in ['.', '..']]\n",
    "\n",
    "from sparc_me import Dataset, Sample, Subject\n",
    "\n",
    "dataset = Dataset()\n",
    "\n",
    "# Specify the SDS schema version to be created\n",
    "version = \"2.0.0\"\n",
    "dataset.create_empty_dataset(version)\n",
    "\n",
    "# Specify location to generate SDS structure\n",
    "save_dir= \"./tmp/template/\"\n",
    "\n",
    "#Creates SDS folder structure\n",
    "\n",
    "dataset.set_path(save_dir)\n",
    "dataset.save(save_dir)"
   ],
   "outputs": [],
   "execution_count": null
  },
  {
   "cell_type": "markdown",
   "metadata": {},
   "source": [
    "## Transfering data into SDS structure\n",
    "\n",
    "Now that there is a destination for the data to be transdered, it is time to transfer your existing data. "
   ]
  },
  {
   "cell_type": "code",
   "metadata": {},
   "source": [
    "# Add a copy of the data from the specified path into the SDS folder structure\n",
    "\n",
    "subjects = []\n",
    "samples = []\n",
    "\n",
    "sample1 = Sample()\n",
    "#Set the folder path to the sample\n",
    "sample1.add_path(\"./test_data/bids_data/sub-01/sequence1/\")\n",
    "samples.append(sample1)\n",
    "\n",
    "# create a subject obj\n",
    "subject1 = Subject()\n",
    "# add a sample obj list to subject\n",
    "subject1.add_samples(samples)\n",
    "subjects.append(subject1)\n",
    "\n",
    "dataset.add_subjects(subjects)"
   ],
   "outputs": [],
   "execution_count": null
  },
  {
   "cell_type": "markdown",
   "metadata": {},
   "source": [
    "# Editing the metadata\n",
    "Now we can explore some of the meta data that was automatically generated as we were transfering files\n",
    "In this example, we now wish to add age information for the subjects."
   ]
  },
  {
   "cell_type": "code",
   "metadata": {},
   "source": [
    "# Modify the subject and sample metadata\n",
    "subject_sds_id = \"sub-1\"\n",
    "subject = dataset.get_subject(subject_sds_id)\n",
    "subject.set_value(\n",
    "    element='age',\n",
    "    value=30)\n",
    "\n",
    "sample_sds_id = \"sam-1\"\n",
    "sample = subject.get_sample(sample_sds_id)\n",
    "sample.set_value(\n",
    "    element='sampleexperimental group',\n",
    "    value='experimental')\n",
    "sample.set_value(\n",
    "    element='sample type',\n",
    "    value='DCE-MRI Contrast Image {0}'.format(sample_sds_id))\n",
    "sample.set_value(\n",
    "    element='sample anatomical location',\n",
    "    value='breast')\n",
    "\n",
    "# Save changes\n",
    "dataset.save(save_dir)\n"
   ],
   "outputs": [],
   "execution_count": null
  },
  {
   "cell_type": "markdown",
   "metadata": {},
   "source": [
    "If the data meta data is incomplete for a given category, as below, then it is useful to be able to extract the rows that contain values."
   ]
  },
  {
   "cell_type": "code",
   "metadata": {},
   "source": [
    "header = \"sex\"\n",
    "\n",
    "subjects_metadata = dataset.get_metadata(metadata_file=\"subjects\")\n",
    "subjects_metadata.set_values(element=\"sex\", values=[\"female\",\"male\"])\n",
    "\n",
    "dataset.save(save_dir)\n"
   ],
   "outputs": [],
   "execution_count": null
  },
  {
   "cell_type": "markdown",
   "metadata": {},
   "source": [
    "# Filtering through the metadata to identify subjects\n",
    "We can use the metadata stored in the dataset to select subjects based on specific criteria "
   ]
  },
  {
   "cell_type": "code",
   "metadata": {},
   "source": [
    "#select out the metadata for female subjects\n",
    "index = subjects_metadata.data['sex'] == 'female'\n",
    "subjects_metadata.data[['subject id','age','sex']][index]"
   ],
   "outputs": [],
   "execution_count": null
  }
 ],
 "metadata": {
  "kernelspec": {
   "display_name": "Python 3.9.5 64-bit",
   "language": "python",
   "name": "python3"
  },
  "language_info": {
   "codemirror_mode": {
    "name": "ipython",
    "version": 3
   },
   "file_extension": ".py",
   "mimetype": "text/x-python",
   "name": "python",
   "nbconvert_exporter": "python",
   "pygments_lexer": "ipython3",
   "version": "3.9.5"
  },
  "orig_nbformat": 4,
  "vscode": {
   "interpreter": {
    "hash": "a47e1e2c49c050a34b8a1fd5e73ef0ffb5353ba12db54c1637a8441d5d8b2e0f"
   }
  }
 },
 "nbformat": 4,
 "nbformat_minor": 2
}
